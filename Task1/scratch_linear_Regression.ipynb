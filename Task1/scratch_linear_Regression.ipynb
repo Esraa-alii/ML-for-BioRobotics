{
 "cells": [
  {
   "cell_type": "markdown",
   "metadata": {},
   "source": [
    "Implementation of linear regression from scratch"
   ]
  },
  {
   "cell_type": "code",
   "execution_count": 78,
   "metadata": {},
   "outputs": [],
   "source": [
    "#import necessary libraries\n",
    "import pandas as pd\n",
    "import matplotlib.pyplot as plt\n",
    "import numpy as np"
   ]
  },
  {
   "cell_type": "code",
   "execution_count": 79,
   "metadata": {},
   "outputs": [],
   "source": [
    "# Calculate the mean and standard deviation along each column of X\n",
    "def normalize(X):\n",
    "    mean = np.mean(X, axis=0)\n",
    "    std = np.std(X, axis=0)\n",
    "    X_norm = (X - mean) / std\n",
    "    return X_norm, mean, std"
   ]
  },
  {
   "cell_type": "code",
   "execution_count": 80,
   "metadata": {},
   "outputs": [],
   "source": [
    "def fit(X, y, num_iterations, learning_rate):\n",
    "    num_samples, num_features = X.shape\n",
    "\n",
    "    # Initialize weights and bias to zeros\n",
    "    weights = np.zeros((num_features, 1))\n",
    "    bias = 0\n",
    "\n",
    "    # Gradient descent\n",
    "    for i in range(num_iterations):\n",
    "        # Compute predictions\n",
    "        y_predict = np.dot(X, weights) + bias\n",
    "        # Compute gradients\n",
    "        dw = (1 / num_samples) * np.dot(X.T, (y_predict - y))\n",
    "        db = (1 / num_samples) * np.sum(y_predict - y)\n",
    "        # Update parameters\n",
    "        weights -= learning_rate * dw.reshape(-1, 1)\n",
    "        bias -= learning_rate * db\n",
    "\n",
    "    return weights, bias"
   ]
  },
  {
   "cell_type": "code",
   "execution_count": 81,
   "metadata": {},
   "outputs": [],
   "source": [
    "def predict(X, weights, bias):\n",
    "    y_predict = np.dot(X, weights) + bias\n",
    "    return y_predict"
   ]
  },
  {
   "cell_type": "code",
   "execution_count": 82,
   "metadata": {},
   "outputs": [],
   "source": [
    "def mean_square_error(y, y_predict):\n",
    "    return np.mean(np.square(y - y_predict))"
   ]
  },
  {
   "cell_type": "code",
   "execution_count": 83,
   "metadata": {},
   "outputs": [
    {
     "name": "stdout",
     "output_type": "stream",
     "text": [
      "      age     sex     bmi  children smoker     region      charges\n",
      "0      19  female  27.900         0    yes  southwest  16884.92400\n",
      "1      18    male  33.770         1     no  southeast   1725.55230\n",
      "2      28    male  33.000         3     no  southeast   4449.46200\n",
      "3      33    male  22.705         0     no  northwest  21984.47061\n",
      "4      32    male  28.880         0     no  northwest   3866.85520\n",
      "...   ...     ...     ...       ...    ...        ...          ...\n",
      "1333   50    male  30.970         3     no  northwest  10600.54830\n",
      "1334   18  female  31.920         0     no  northeast   2205.98080\n",
      "1335   18  female  36.850         0     no  southeast   1629.83350\n",
      "1336   21  female  25.800         0     no  southwest   2007.94500\n",
      "1337   61  female  29.070         0    yes  northwest  29141.36030\n",
      "\n",
      "[1338 rows x 7 columns]\n"
     ]
    }
   ],
   "source": [
    "insurance_data = pd.read_csv('insurance.csv') #read the csv file\n",
    "print(insurance_data)"
   ]
  },
  {
   "cell_type": "code",
   "execution_count": 84,
   "metadata": {},
   "outputs": [
    {
     "name": "stdout",
     "output_type": "stream",
     "text": [
      "Weights: [[0.18361895]\n",
      " [0.11696098]]\n",
      "Bias: -2.458090200410738e-17\n",
      "Mean Squared Error: 0.8958858417041768\n"
     ]
    }
   ],
   "source": [
    "X = insurance_data[['age', 'bmi']]\n",
    "y = insurance_data['charges']\n",
    "\n",
    "X_norm, mean, std = normalize(X.values)\n",
    "y_norm, y_mean, y_std = normalize(y.values.reshape(-1, 1))\n",
    "\n",
    "learning_rate = 0.001 \n",
    "num_iterations = 1000\n",
    "\n",
    "weights, bias = fit(X_norm, y_norm, num_iterations, learning_rate)\n",
    "y_predict = predict(X_norm, weights, bias)\n",
    "mse = mean_square_error(y_norm, y_predict)\n",
    "\n",
    "# Denormalize the predicted and actual charges\n",
    "y_predict_denorm = (y_predict * y_std) + y_mean.flatten()\n",
    "y_denorm = (y_norm * y_std) + y_mean.flatten()\n",
    "\n",
    "print(\"Weights:\", weights)\n",
    "print(\"Bias:\", bias)\n",
    "print(\"Mean Squared Error:\", mse)\n",
    "\n"
   ]
  },
  {
   "cell_type": "code",
   "execution_count": 85,
   "metadata": {},
   "outputs": [
    {
     "data": {
      "image/png": "[encoded data removed]",
      "text/plain": [
       "<Figure size 432x288 with 1 Axes>"
      ]
     },
     "metadata": {
      "needs_background": "light"
     },
     "output_type": "display_data"
    }
   ],
   "source": [
    "# Plotting the results\n",
    "plt.scatter(y_denorm, y_predict_denorm, color='blue', label='Actual')\n",
    "plt.plot([min(y_denorm), max(y_denorm)], [min(y_denorm), max(y_denorm)], color='red', label='Predicted')\n",
    "plt.xlabel('Actual Charges')\n",
    "plt.ylabel('Predicted Charges')\n",
    "plt.title('Actual Charges vs Predicted Charges')\n",
    "plt.show()"
   ]
  }
 ],
 "metadata": {
  "kernelspec": {
   "display_name": "base",
   "language": "python",
   "name": "python3"
  },
  "language_info": {
   "codemirror_mode": {
    "name": "ipython",
    "version": 3
   },
   "file_extension": ".py",
   "mimetype": "text/x-python",
   "name": "python",
   "nbconvert_exporter": "python",
   "pygments_lexer": "ipython3",
   "version": "3.8.8"
  }
 },
 "nbformat": 4,
 "nbformat_minor": 2
}
